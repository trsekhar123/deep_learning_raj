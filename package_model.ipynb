{
 "cells": [
  {
   "cell_type": "code",
   "execution_count": null,
   "id": "44f25e8c-ff04-4c54-bd0e-1ae84f7a8fa3",
   "metadata": {},
   "outputs": [],
   "source": []
  },
  {
   "cell_type": "code",
   "execution_count": 2,
   "id": "cbcc555c-aeac-4753-95b7-8cf47a9eb213",
   "metadata": {},
   "outputs": [
    {
     "name": "stdout",
     "output_type": "stream",
     "text": [
      "0.7874015748031497\n"
     ]
    }
   ],
   "source": [
    "import pandas\n",
    "from sklearn import model_selection\n",
    "from sklearn.linear_model import LogisticRegression\n",
    "import pickle\n",
    "from google.cloud import storage\n",
    "\n",
    "# Authentication\n",
    "import os\n",
    "#os.environ[\"GOOGLE_APPLICATION_CREDENTIALS\"] = \"path_to_your_service_account_key.json\"\n",
    "\n",
    "# Set up GCS client\n",
    "client = storage.Client()\n",
    "bucket_name = \"mybucket_004788\"\n",
    "bucket = client.get_bucket(bucket_name)\n",
    "\n",
    "url = \"https://raw.githubusercontent.com/jbrownlee/Datasets/master/pima-indians-diabetes.data.csv\"\n",
    "names = ['preg', 'plas', 'pres', 'skin', 'test', 'mass', 'pedi', 'age', 'class']\n",
    "dataframe = pandas.read_csv(url, names=names)\n",
    "array = dataframe.values\n",
    "X = array[:,0:8]\n",
    "Y = array[:,8]\n",
    "test_size = 0.33\n",
    "seed = 7\n",
    "X_train, X_test, Y_train, Y_test = model_selection.train_test_split(X, Y, test_size=test_size, random_state=seed)\n",
    "\n",
    "# Fit the model on training set\n",
    "model = LogisticRegression(solver='lbfgs', max_iter=1000)\n",
    "model.fit(X_train, Y_train)\n",
    "\n",
    "# Save the model to GCS bucket\n",
    "filename = 'finalized_model.sav'\n",
    "blob = bucket.blob(filename)\n",
    "blob.upload_from_string(pickle.dumps(model))\n",
    "\n",
    "# some time later...\n",
    "# Load the model from GCS bucket\n",
    "blob = bucket.get_blob(filename)\n",
    "\n",
    "# Download model as binary\n",
    "model_binary = blob.download_as_bytes()\n",
    "\n",
    "# Deserialize the model from the binary\n",
    "loaded_model = pickle.loads(model_binary)\n",
    "\n",
    "result = loaded_model.score(X_test, Y_test)\n",
    "print(result)\n",
    "\n"
   ]
  },
  {
   "cell_type": "code",
   "execution_count": null,
   "id": "ec8c5225-c7c8-492d-a56a-c064be5a9722",
   "metadata": {},
   "outputs": [],
   "source": []
  }
 ],
 "metadata": {
  "environment": {
   "kernel": "python3",
   "name": "tf2-gpu.2-11.m111",
   "type": "gcloud",
   "uri": "gcr.io/deeplearning-platform-release/tf2-gpu.2-11:m111"
  },
  "kernelspec": {
   "display_name": "Python 3",
   "language": "python",
   "name": "python3"
  },
  "language_info": {
   "codemirror_mode": {
    "name": "ipython",
    "version": 3
   },
   "file_extension": ".py",
   "mimetype": "text/x-python",
   "name": "python",
   "nbconvert_exporter": "python",
   "pygments_lexer": "ipython3",
   "version": "3.10.12"
  }
 },
 "nbformat": 4,
 "nbformat_minor": 5
}
